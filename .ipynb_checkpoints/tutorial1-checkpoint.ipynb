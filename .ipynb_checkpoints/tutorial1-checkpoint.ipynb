{
 "cells": [
  {
   "cell_type": "code",
   "execution_count": null,
   "id": "718e9ecb-d131-4384-98ff-56643c4202f7",
   "metadata": {},
   "outputs": [
    {
     "name": "stdout",
     "output_type": "stream",
     "text": [
      "pygame 2.1.2 (SDL 2.0.18, Python 3.9.7)\n",
      "Hello from the pygame community. https://www.pygame.org/contribute.html\n"
     ]
    },
    {
     "name": "stderr",
     "output_type": "stream",
     "text": [
      "2022-05-19 13:07:30.362 python[3052:91350] Warning: Expected min height of view: (<NSPopoverTouchBarItemButton: 0x7ff7174e0100>) to be less than or equal to 30 but got a height of 32.000000. This error will be logged once per view in violation.\n",
      "2022-05-19 13:07:30.363 python[3052:91350] Warning: Expected min height of view: (<NSButton: 0x7ff730b30b70>) to be less than or equal to 30 but got a height of 32.000000. This error will be logged once per view in violation.\n",
      "2022-05-19 13:07:30.365 python[3052:91350] Warning: Expected min height of view: (<NSPopoverTouchBarItemButton: 0x7ff730b34040>) to be less than or equal to 30 but got a height of 32.000000. This error will be logged once per view in violation.\n",
      "2022-05-19 13:07:30.366 python[3052:91350] Warning: Expected min height of view: (<NSPopoverTouchBarItemButton: 0x7ff730b3dec0>) to be less than or equal to 30 but got a height of 32.000000. This error will be logged once per view in violation.\n"
     ]
    }
   ],
   "source": [
    "from psychopy import visual, core, event #import some libraries from PsychoPy\n",
    "\n",
    "#create a window\n",
    "mywin = visual.Window([800,600],monitor=\"testMonitor\", units=\"deg\")\n",
    "\n",
    "#create some stimuli\n",
    "grating = visual.GratingStim(win=mywin, mask='circle', size=3, pos=[-4,0], sf=3)\n",
    "fixation = visual.GratingStim(win=mywin, size=0.2, pos=[0,0], sf=0, rgb=-1)\n",
    "\n",
    "#draw the stimuli and update the window\n",
    "while True: #this creates a never-ending loop\n",
    "    grating.setPhase(0.05, '+')#advance phase by 0.05 of a cycle\n",
    "    grating.draw()\n",
    "    fixation.draw()\n",
    "    mywin.flip()\n",
    "\n",
    "    if len(event.getKeys())>0:\n",
    "        break\n",
    "    event.clearEvents()\n",
    "\n",
    "#cleanup\n",
    "mywin.close()\n",
    "core.quit()"
   ]
  },
  {
   "cell_type": "code",
   "execution_count": null,
   "id": "8aa673eb-5527-43c0-aaa5-84ec20dd4718",
   "metadata": {},
   "outputs": [],
   "source": []
  }
 ],
 "metadata": {
  "kernelspec": {
   "display_name": "Python 3 (ipykernel)",
   "language": "python",
   "name": "python3"
  },
  "language_info": {
   "codemirror_mode": {
    "name": "ipython",
    "version": 3
   },
   "file_extension": ".py",
   "mimetype": "text/x-python",
   "name": "python",
   "nbconvert_exporter": "python",
   "pygments_lexer": "ipython3",
   "version": "3.9.7"
  }
 },
 "nbformat": 4,
 "nbformat_minor": 5
}
